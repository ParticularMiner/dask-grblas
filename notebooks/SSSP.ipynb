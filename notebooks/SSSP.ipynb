{
 "cells": [
  {
   "cell_type": "markdown",
   "id": "9c71caf9",
   "metadata": {},
   "source": [
    "# SSSP Example"
   ]
  },
  {
   "cell_type": "code",
   "execution_count": null,
   "id": "e7b0fd64",
   "metadata": {},
   "outputs": [],
   "source": [
    "import dask\n",
    "import numpy as np\n",
    "import grblas as gb\n",
    "import dask_grblas as dgb\n",
    "from grblas import op"
   ]
  },
  {
   "cell_type": "code",
   "execution_count": null,
   "id": "4ee06e83",
   "metadata": {},
   "outputs": [],
   "source": [
    "# Create random data\n",
    "N = 1000\n",
    "num_chunks = 4\n",
    "r = np.random.rand(N, N) < 0.001\n",
    "r = r | r.T  # symmetric\n",
    "r = r & ~np.diag(np.ones(N, dtype=bool))  # no self edges"
   ]
  },
  {
   "cell_type": "code",
   "execution_count": null,
   "id": "cd9e8d0d",
   "metadata": {},
   "outputs": [],
   "source": [
    "chunks = np.array_split(r, num_chunks, axis=0)"
   ]
  },
  {
   "cell_type": "code",
   "execution_count": null,
   "id": "e4dd7788",
   "metadata": {},
   "outputs": [],
   "source": [
    "def to_matrix(chunk):\n",
    "    rows, cols = np.nonzero(chunk)\n",
    "    values = np.random.rand(rows.size)\n",
    "    return dgb.Matrix.from_values(\n",
    "        rows,\n",
    "        cols,\n",
    "        values,\n",
    "        nrows=chunk.shape[0],\n",
    "        ncols=chunk.shape[1]\n",
    "    )\n",
    "delayed_chunks = [to_matrix(chunk) for chunk in chunks]"
   ]
  },
  {
   "cell_type": "code",
   "execution_count": null,
   "id": "45b07204",
   "metadata": {},
   "outputs": [],
   "source": [
    "A = dgb.row_stack(delayed_chunks)\n",
    "sources = dgb.Vector.from_values(\n",
    "    np.random.randint(N),\n",
    "    0,\n",
    "    size=N,\n",
    "    dtype=A.dtype\n",
    ")"
   ]
  },
  {
   "cell_type": "code",
   "execution_count": null,
   "id": "0d15656d",
   "metadata": {},
   "outputs": [],
   "source": [
    "# Calculate expected with grblas\n",
    "B = A.compute()\n",
    "v = sources.dup().compute()\n",
    "v_dup = gb.Vector.new(v.dtype, size=N)\n",
    "i = 0\n",
    "while True:\n",
    "    i += 1\n",
    "    v_dup << v\n",
    "    v(op.min) << B.mxv(v, op.min_plus)\n",
    "    if v.isequal(v_dup):\n",
    "        break\n",
    "expected = v\n",
    "i"
   ]
  },
  {
   "cell_type": "code",
   "execution_count": null,
   "id": "3b5060bc",
   "metadata": {},
   "outputs": [],
   "source": [
    "# Calculate with dask-grblas\n",
    "i = 0\n",
    "v = sources.dup()\n",
    "while True:\n",
    "    i += 1\n",
    "    v_dup = v.dup()\n",
    "    v(op.min) << A.mxv(v, op.min_plus)\n",
    "    # persist so we don't recompute every iteration (threaded scheduler)\n",
    "    v._delayed = v._delayed.persist()\n",
    "    if v.isequal(v_dup):\n",
    "        break\n",
    "i"
   ]
  },
  {
   "cell_type": "code",
   "execution_count": null,
   "id": "5e3f685d",
   "metadata": {},
   "outputs": [],
   "source": [
    "assert expected.isequal(v.compute())"
   ]
  },
  {
   "cell_type": "code",
   "execution_count": null,
   "id": "8bf3b8a3",
   "metadata": {},
   "outputs": [],
   "source": [
    "expected"
   ]
  },
  {
   "cell_type": "code",
   "execution_count": null,
   "id": "ce544560",
   "metadata": {},
   "outputs": [],
   "source": []
  }
 ],
 "metadata": {
  "kernelspec": {
   "display_name": "Python 3 (ipykernel)",
   "language": "python",
   "name": "python3"
  },
  "language_info": {
   "codemirror_mode": {
    "name": "ipython",
    "version": 3
   },
   "file_extension": ".py",
   "mimetype": "text/x-python",
   "name": "python",
   "nbconvert_exporter": "python",
   "pygments_lexer": "ipython3",
   "version": "3.9.7"
  }
 },
 "nbformat": 4,
 "nbformat_minor": 5
}
